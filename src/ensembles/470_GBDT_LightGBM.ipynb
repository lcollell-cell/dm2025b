{
 "cells": [
  {
   "cell_type": "markdown",
   "metadata": {
    "editable": true,
    "id": "O94qX1svwzoC",
    "slideshow": {
     "slide_type": ""
    },
    "tags": []
   },
   "source": [
    "# 4. Ensembles de Arboles de Decision"
   ]
  },
  {
   "cell_type": "markdown",
   "metadata": {
    "editable": true,
    "id": "HsJFTcBZw1bE",
    "slideshow": {
     "slide_type": ""
    },
    "tags": []
   },
   "source": [
    "## 4.06 GBDT LightGBM"
   ]
  },
  {
   "cell_type": "markdown",
   "metadata": {
    "editable": true,
    "id": "nsgvDbemw9Tc",
    "slideshow": {
     "slide_type": ""
    },
    "tags": []
   },
   "source": [
    "La técnica de Gradient Boosting fue creada por Jerome H. Friedman en 1999 - 2001\n",
    "<br>Se implementaron librerías ineficientes\n",
    "<br>En 2016 se crea XGBoost, en 2017 LightGBM\n",
    "\n",
    "\n"
   ]
  },
  {
   "cell_type": "markdown",
   "metadata": {
    "editable": true,
    "id": "1o-6jjy0Yedk",
    "slideshow": {
     "slide_type": ""
    },
    "tags": []
   },
   "source": [
    "Paper original de  Gradient Boosting\n",
    "\n",
    "\n",
    "Friedman JH. Greedy function approximation: A gradient\n",
    "boosting machine. Ann Stat. 2001;29(5):1189–232. https://\n",
    "doi.org/10.1214/aos/1013203451.\n",
    "<br>\n",
    "https://projecteuclid.org/journals/annals-of-statistics/volume-29/issue-5/Greedy-function-approximation-A-gradient-boosting-machine/10.1214/aos/1013203451.pdf"
   ]
  },
  {
   "cell_type": "markdown",
   "metadata": {
    "editable": true,
    "id": "14MlfCxMZWIc",
    "slideshow": {
     "slide_type": ""
    },
    "tags": []
   },
   "source": [
    "Paper XGBoost\n",
    "\n",
    "Chen, T.; Guestrin, C. Xgboost: A scalable tree boosting system. In Proceedings of the 22nd ACM Sigkdd International Conference on Knowledge Discovery and Data Mining, San Francisco, CA, USA, 13–17 August 2016; pp. 785–794.\n",
    "\n",
    "https://dl.acm.org/doi/pdf/10.1145/2939672.2939785"
   ]
  },
  {
   "cell_type": "markdown",
   "metadata": {
    "editable": true,
    "id": "IDk5edloZpBI",
    "slideshow": {
     "slide_type": ""
    },
    "tags": []
   },
   "source": [
    "Paper  LightGBM\n",
    "\n",
    "Ke G., Meng Q., Finley T., Wang T., Chen W., Ma W., et al.\n",
    "Lightgbm: A highly efficient gradient boosting decision tree\n",
    "Advances in Neural Information Processing Systems, 30 (2017)\n",
    "\n",
    "https://proceedings.neurips.cc/paper/2017/file/6449f44a102fde848669bdd9eb6b76fa-Paper.pdf"
   ]
  },
  {
   "cell_type": "markdown",
   "metadata": {
    "editable": true,
    "id": "ZMyXpQyJaCsP",
    "slideshow": {
     "slide_type": ""
    },
    "tags": []
   },
   "source": [
    "Videos \"simplificados\" :\n",
    "*  https://www.youtube.com/watch?v=3CC4N4z3GJc\n",
    "*  https://www.youtube.com/watch?v=2xudPOBz-vs\n",
    "*  https://www.youtube.com/watch?v=jxuNLH5dXCs\n",
    "*  https://www.youtube.com/watch?v=StWY5QWMXCw"
   ]
  },
  {
   "cell_type": "markdown",
   "metadata": {
    "editable": true,
    "id": "Eyffb3AAahth",
    "slideshow": {
     "slide_type": ""
    },
    "tags": []
   },
   "source": [
    "Artículos ligeros:\n",
    "*  https://machinelearningmastery.com/gentle-introduction-gradient-boosting-algorithm-machine-learning/\n",
    "*   https://www.machinelearningplus.com/machine-learning/an-introduction-to-gradient-boosting-decision-trees/\n",
    "*   https://medium.com/@ruchi.awasthi63/gradient-boosted-decision-tree-clearly-explained-bd1d8c7d9923\n",
    "*   https://medium.com/data-science/a-visual-understanding-of-decision-trees-and-gradient-boosting-c6bc53f982ce\n",
    "*   https://medium.com/analytics-vidhya/introduction-to-the-gradient-boosting-algorithm-c25c653f826b\n",
    "*   https://medium.com/@datasciencewizards/understanding-the-gradient-boosting-algorithm-9fe698a352ad"
   ]
  },
  {
   "cell_type": "markdown",
   "metadata": {
    "editable": true,
    "id": "0YOyfUaESdsX",
    "slideshow": {
     "slide_type": ""
    },
    "tags": []
   },
   "source": [
    "El Gradient Boosting of Decision Trees es un ensemble de árboles de decisión, para un nuevo registro la predicción se hace sumando el score que cada arbol asigna a ese registro.\n",
    "\n",
    "En GBDT la construccion de los árboles es secuencial, ya que el arbol n-simo se genera para predecir el error del modelo conformado por los n-1 arboles previos, aunque sea un arbol de clasificación lo que se predice es un numero real mediante un arbol de regresión."
   ]
  },
  {
   "cell_type": "markdown",
   "metadata": {
    "editable": true,
    "id": "nF6XblBIYnY6",
    "slideshow": {
     "slide_type": ""
    },
    "tags": []
   },
   "source": [
    "<br>Qué tipo de perturbaciones se realiza LightGBM\n",
    "\n",
    "*   Se perturba el dataset, seleccionando para cada arbol un subconjunto de las columnas.\n",
    "*   El algortimo de arbol de decisión no presenta perturbaciones"
   ]
  },
  {
   "cell_type": "markdown",
   "metadata": {
    "editable": true,
    "id": "j75A--Tsx2df",
    "slideshow": {
     "slide_type": ""
    },
    "tags": []
   },
   "source": [
    "Cada arbolito de LightGBM se entrena sobre un dataset perturbado, que en principio posee :\n",
    "* todos los registros del dataset original\n",
    "* solo un porcentaje *feature_fraction* de las columnas originales del dataset"
   ]
  },
  {
   "cell_type": "markdown",
   "metadata": {
    "editable": true,
    "id": "PX0qg_c0yqob",
    "slideshow": {
     "slide_type": ""
    },
    "tags": []
   },
   "source": [
    "#### 4.06.1  Seteo del ambiente en Google Colab"
   ]
  },
  {
   "cell_type": "markdown",
   "metadata": {
    "editable": true,
    "id": "NGY7H9xza7Zr",
    "slideshow": {
     "slide_type": ""
    },
    "tags": []
   },
   "source": [
    "Esta parte se debe correr con el runtime en Python3\n",
    "<br>Ir al menu, Runtime -> Change Runtime Type -> Runtime type ->  **Python 3**"
   ]
  },
  {
   "cell_type": "markdown",
   "metadata": {
    "editable": true,
    "id": "7PupIBNba7Zr",
    "slideshow": {
     "slide_type": ""
    },
    "tags": []
   },
   "source": [
    "Conectar la virtual machine donde esta corriendo Google Colab con el  Google Drive, para poder tener persistencia de archivos"
   ]
  },
  {
   "cell_type": "code",
   "execution_count": null,
   "metadata": {
    "editable": true,
    "id": "9LpZCst5a7Zs",
    "slideshow": {
     "slide_type": ""
    },
    "tags": []
   },
   "outputs": [],
   "source": [
    "# primero establecer el Runtime de Python 3\n",
    "from google.colab import drive\n",
    "drive.mount('/content/.drive')"
   ]
  },
  {
   "cell_type": "markdown",
   "metadata": {
    "editable": true,
    "id": "JYC_F-wla7Zs",
    "slideshow": {
     "slide_type": ""
    },
    "tags": []
   },
   "source": [
    "Para correr la siguiente celda es fundamental en Arranque en Frio haber copiado el archivo kaggle.json al Google Drive, en la carpeta indicada en el instructivo\n",
    "\n",
    "<br>los siguientes comando estan en shell script de Linux\n",
    "*   Crear las carpetas en el Google Drive\n",
    "*   \"instalar\" el archivo kaggle.json desde el Google Drive a la virtual machine para que pueda ser utilizado por la libreria  kaggle de Python\n",
    "*   Bajar el  **dataset_pequeno**  al  Google Drive  y tambien al disco local de la virtual machine que esta corriendo Google Colab\n",
    "\n"
   ]
  },
  {
   "cell_type": "code",
   "execution_count": null,
   "metadata": {
    "editable": true,
    "id": "XWLelftXa7Zt",
    "slideshow": {
     "slide_type": ""
    },
    "tags": []
   },
   "outputs": [],
   "source": [
    "%%shell\n",
    "\n",
    "mkdir -p \"/content/.drive/My Drive/dm\"\n",
    "mkdir -p \"/content/buckets\"\n",
    "ln -s \"/content/.drive/My Drive/dm\" /content/buckets/b1\n",
    "\n",
    "mkdir -p ~/.kaggle\n",
    "cp /content/buckets/b1/kaggle/kaggle.json  ~/.kaggle\n",
    "chmod 600 ~/.kaggle/kaggle.json\n",
    "\n",
    "\n",
    "mkdir -p /content/buckets/b1/exp\n",
    "mkdir -p /content/buckets/b1/datasets\n",
    "mkdir -p /content/datasets\n",
    "\n",
    "\n",
    "\n",
    "archivo_origen=\"https://storage.googleapis.com/open-courses/itba2025-8d0a/dataset_pequeno.csv\"\n",
    "archivo_destino=\"/content/datasets/dataset_pequeno.csv\"\n",
    "archivo_destino_bucket=\"/content/buckets/b1/datasets/dataset_pequeno.csv\"\n",
    "\n",
    "if ! test -f $archivo_destino_bucket; then\n",
    "  wget  $archivo_origen  -O $archivo_destino_bucket\n",
    "fi\n",
    "\n",
    "\n",
    "if ! test -f $archivo_destino; then\n",
    "  cp  $archivo_destino_bucket  $archivo_destino\n",
    "fi\n"
   ]
  },
  {
   "cell_type": "markdown",
   "metadata": {
    "editable": true,
    "id": "oSKhZRToy2F7",
    "slideshow": {
     "slide_type": ""
    },
    "tags": []
   },
   "source": [
    "### 4.07  LightGBM, una corrida"
   ]
  },
  {
   "cell_type": "markdown",
   "metadata": {
    "editable": true,
    "id": "eSU5vi00CPRS",
    "slideshow": {
     "slide_type": ""
    },
    "tags": []
   },
   "source": [
    "Esta parte se debe correr con el runtime en lenguaje **R** Ir al menu, Runtime -> Change Runtime Type -> Runtime type -> R"
   ]
  },
  {
   "cell_type": "markdown",
   "metadata": {
    "editable": true,
    "id": "Zq8dySimCPRT",
    "slideshow": {
     "slide_type": ""
    },
    "tags": []
   },
   "source": [
    "limpio el ambiente de R"
   ]
  },
  {
   "cell_type": "code",
   "execution_count": 1,
   "metadata": {
    "editable": true,
    "id": "Tjda_YGOXaPw",
    "slideshow": {
     "slide_type": ""
    },
    "tags": []
   },
   "outputs": [
    {
     "data": {
      "text/html": [
       "'Sat Aug 30 00:04:28 2025'"
      ],
      "text/latex": [
       "'Sat Aug 30 00:04:28 2025'"
      ],
      "text/markdown": [
       "'Sat Aug 30 00:04:28 2025'"
      ],
      "text/plain": [
       "[1] \"Sat Aug 30 00:04:28 2025\""
      ]
     },
     "metadata": {},
     "output_type": "display_data"
    }
   ],
   "source": [
    "format(Sys.time(), \"%a %b %d %X %Y\")"
   ]
  },
  {
   "cell_type": "code",
   "execution_count": 2,
   "metadata": {
    "editable": true,
    "id": "1iE0U4_WCPRT",
    "slideshow": {
     "slide_type": ""
    },
    "tags": []
   },
   "outputs": [
    {
     "data": {
      "text/html": [
       "<table class=\"dataframe\">\n",
       "<caption>A matrix: 2 × 6 of type dbl</caption>\n",
       "<thead>\n",
       "\t<tr><th></th><th scope=col>used</th><th scope=col>(Mb)</th><th scope=col>gc trigger</th><th scope=col>(Mb)</th><th scope=col>max used</th><th scope=col>(Mb)</th></tr>\n",
       "</thead>\n",
       "<tbody>\n",
       "\t<tr><th scope=row>Ncells</th><td> 657015</td><td>35.1</td><td>1439380</td><td>76.9</td><td>1432335</td><td>76.5</td></tr>\n",
       "\t<tr><th scope=row>Vcells</th><td>1225200</td><td> 9.4</td><td>8388608</td><td>64.0</td><td>1924957</td><td>14.7</td></tr>\n",
       "</tbody>\n",
       "</table>\n"
      ],
      "text/latex": [
       "A matrix: 2 × 6 of type dbl\n",
       "\\begin{tabular}{r|llllll}\n",
       "  & used & (Mb) & gc trigger & (Mb) & max used & (Mb)\\\\\n",
       "\\hline\n",
       "\tNcells &  657015 & 35.1 & 1439380 & 76.9 & 1432335 & 76.5\\\\\n",
       "\tVcells & 1225200 &  9.4 & 8388608 & 64.0 & 1924957 & 14.7\\\\\n",
       "\\end{tabular}\n"
      ],
      "text/markdown": [
       "\n",
       "A matrix: 2 × 6 of type dbl\n",
       "\n",
       "| <!--/--> | used | (Mb) | gc trigger | (Mb) | max used | (Mb) |\n",
       "|---|---|---|---|---|---|---|\n",
       "| Ncells |  657015 | 35.1 | 1439380 | 76.9 | 1432335 | 76.5 |\n",
       "| Vcells | 1225200 |  9.4 | 8388608 | 64.0 | 1924957 | 14.7 |\n",
       "\n"
      ],
      "text/plain": [
       "       used    (Mb) gc trigger (Mb) max used (Mb)\n",
       "Ncells  657015 35.1 1439380    76.9 1432335  76.5\n",
       "Vcells 1225200  9.4 8388608    64.0 1924957  14.7"
      ]
     },
     "metadata": {},
     "output_type": "display_data"
    }
   ],
   "source": [
    "# limpio la memoria\n",
    "rm(list=ls(all.names=TRUE)) # remove all objects\n",
    "gc(full=TRUE, verbose=FALSE) # garbage collection"
   ]
  },
  {
   "cell_type": "code",
   "execution_count": 3,
   "metadata": {
    "editable": true,
    "id": "BJDwdD0dCPRU",
    "slideshow": {
     "slide_type": ""
    },
    "tags": []
   },
   "outputs": [
    {
     "name": "stderr",
     "output_type": "stream",
     "text": [
      "Loading required package: data.table\n",
      "\n",
      "Loading required package: rpart\n",
      "\n",
      "Loading required package: rlist\n",
      "\n",
      "Loading required package: lightgbm\n",
      "\n"
     ]
    }
   ],
   "source": [
    "# cargo las librerias que necesito\n",
    "require(\"data.table\")\n",
    "require(\"rpart\")\n",
    "\n",
    "if( !require(\"rlist\") ) install.packages(\"rlist\")\n",
    "require(\"rlist\")\n",
    "\n",
    "if( !require(\"lightgbm\") ) install.packages(\"lightgbm\")\n",
    "require(\"lightgbm\")"
   ]
  },
  {
   "cell_type": "markdown",
   "metadata": {
    "editable": true,
    "id": "M8-Pyp6CCPRU",
    "slideshow": {
     "slide_type": ""
    },
    "tags": []
   },
   "source": [
    "Aqui debe cargar SU semilla primigenia"
   ]
  },
  {
   "cell_type": "code",
   "execution_count": 4,
   "metadata": {
    "editable": true,
    "id": "peRH7ySLCPRV",
    "slideshow": {
     "slide_type": ""
    },
    "tags": []
   },
   "outputs": [],
   "source": [
    "PARAM <- list()\n",
    "PARAM$experimento <- 4070\n",
    "PARAM$semilla_primigenia <- 100237\n",
    "\n",
    "# estos hiperparametros de LightGBM surgieron de una Bayesian Optimization\n",
    "PARAM$lgb$num_iterations <- 1000  # cantidad de arbolitos\n",
    "PARAM$lgb$learning_rate <- 0.027\n",
    "PARAM$lgb$feature_fraction <- 0.8\n",
    "PARAM$lgb$min_data_in_leaf <- 76\n",
    "PARAM$lgb$num_leaves <- 8\n",
    "PARAM$lgb$max_bin <- 31\n"
   ]
  },
  {
   "cell_type": "code",
   "execution_count": 5,
   "metadata": {
    "editable": true,
    "id": "1gZD6ZMvCPRV",
    "slideshow": {
     "slide_type": ""
    },
    "tags": []
   },
   "outputs": [],
   "source": [
    "# carpeta de trabajo\n",
    "setwd(\"/content/buckets/b1/exp\")\n",
    "experimento_folder <- paste0(\"KA\", PARAM$experimento)\n",
    "dir.create(experimento_folder, showWarnings=FALSE)\n",
    "setwd( paste0(\"/content/buckets/b1/exp/\", experimento_folder ))"
   ]
  },
  {
   "cell_type": "code",
   "execution_count": 6,
   "metadata": {
    "editable": true,
    "id": "Xi0emX2ECPRV",
    "slideshow": {
     "slide_type": ""
    },
    "tags": []
   },
   "outputs": [],
   "source": [
    "# lectura del dataset\n",
    "dataset <- fread(\"/content/datasets/dataset_pequeno.csv\", stringsAsFactors= TRUE)"
   ]
  },
  {
   "cell_type": "code",
   "execution_count": 7,
   "metadata": {
    "editable": true,
    "id": "-3XuBeDy1Ugj",
    "slideshow": {
     "slide_type": ""
    },
    "tags": []
   },
   "outputs": [],
   "source": [
    "# paso la clase a binaria\n",
    "\n",
    "dataset[, clase01 := ifelse(clase_ternaria %in% c(\"BAJA+2\"), 1L, 0L)]"
   ]
  },
  {
   "cell_type": "code",
   "execution_count": 8,
   "metadata": {
    "editable": true,
    "id": "h8Anoo4Sel8S",
    "slideshow": {
     "slide_type": ""
    },
    "tags": []
   },
   "outputs": [],
   "source": [
    "# los campos que se van a utilizar\n",
    "\n",
    "campos_buenos <- setdiff(colnames(dataset), c(\"clase_ternaria\", \"clase01\"))"
   ]
  },
  {
   "cell_type": "code",
   "execution_count": 9,
   "metadata": {
    "editable": true,
    "id": "RA3cSJ6KaGwA",
    "slideshow": {
     "slide_type": ""
    },
    "tags": []
   },
   "outputs": [],
   "source": [
    "# establezco donde entreno\n",
    "\n",
    "dataset[, train := 0L]\n",
    "dataset[foto_mes %in% c(202107), train := 1L]"
   ]
  },
  {
   "cell_type": "code",
   "execution_count": 10,
   "metadata": {
    "editable": true,
    "id": "T6Zr06HB1kMU",
    "slideshow": {
     "slide_type": ""
    },
    "tags": []
   },
   "outputs": [],
   "source": [
    "# dejo los datos en el formato que necesita LightGBM\n",
    "\n",
    "dtrain <- lgb.Dataset(\n",
    "  data= data.matrix(dataset[train == 1L, campos_buenos, with= FALSE]),\n",
    "  label= dataset[train == 1L, clase01]\n",
    ")"
   ]
  },
  {
   "cell_type": "code",
   "execution_count": 11,
   "metadata": {
    "editable": true,
    "id": "TI9_5pii2zCF",
    "slideshow": {
     "slide_type": ""
    },
    "tags": []
   },
   "outputs": [
    {
     "name": "stdout",
     "output_type": "stream",
     "text": [
      "[LightGBM] [Info] Number of positive: 1248, number of negative: 163348\n",
      "[LightGBM] [Info] Auto-choosing row-wise multi-threading, the overhead of testing was 0.033229 seconds.\n",
      "You can set `force_row_wise=true` to remove the overhead.\n",
      "And if memory is not enough, you can set `force_col_wise=true`.\n",
      "[LightGBM] [Info] Total Bins 3612\n",
      "[LightGBM] [Info] Number of data points in the train set: 164596, number of used features: 153\n",
      "[LightGBM] [Info] [binary:BoostFromScore]: pavg=0.007582 -> initscore=-4.874341\n",
      "[LightGBM] [Info] Start training from score -4.874341\n"
     ]
    }
   ],
   "source": [
    "# genero el modelo\n",
    "# estos hiperparametros  salieron de una laaarga Optmizacion Bayesiana\n",
    "\n",
    "set.seed(PARAM$semilla_primigenia, kind = \"L'Ecuyer-CMRG\") # Establezco la semilla aleatoria\n",
    "\n",
    "modelo <- lgb.train(\n",
    "  data= dtrain,\n",
    "  param= list(\n",
    "    objective= \"binary\",\n",
    "    max_bin= PARAM$lgb$max_bin,\n",
    "    learning_rate= PARAM$lgb$learning_rate,\n",
    "    num_iterations= PARAM$lgb$num_iterations,\n",
    "    num_leaves= PARAM$lgb$num_leaves,\n",
    "    min_data_in_leaf= PARAM$lgb$min_data_in_leaf,\n",
    "    feature_fraction= PARAM$lgb$feature_fraction,\n",
    "    seed= PARAM$semilla_primigenia\n",
    "  )\n",
    ")\n"
   ]
  },
  {
   "cell_type": "code",
   "execution_count": 12,
   "metadata": {
    "editable": true,
    "id": "69QcMsSkg9d-",
    "slideshow": {
     "slide_type": ""
    },
    "tags": []
   },
   "outputs": [],
   "source": [
    "# ahora imprimo la importancia de variables\n",
    "tb_importancia <- as.data.table(lgb.importance(modelo))\n",
    "archivo_importancia <- \"impo.txt\"\n",
    "\n",
    "fwrite(tb_importancia,\n",
    "  file= archivo_importancia,\n",
    "  sep= \"\\t\"\n",
    ")\n"
   ]
  },
  {
   "cell_type": "code",
   "execution_count": 13,
   "metadata": {
    "editable": true,
    "id": "lauiNeQDg-XP",
    "slideshow": {
     "slide_type": ""
    },
    "tags": []
   },
   "outputs": [],
   "source": [
    "# grabo a disco el modelo en un formato para seres humanos ... ponele ...\n",
    "\n",
    "lgb.save(modelo, \"modelo.txt\" )"
   ]
  },
  {
   "cell_type": "code",
   "execution_count": 14,
   "metadata": {
    "editable": true,
    "id": "VQhEcNmBhF7u",
    "slideshow": {
     "slide_type": ""
    },
    "tags": []
   },
   "outputs": [],
   "source": [
    "# aplico el modelo a los datos sin clase\n",
    "dfuture <- dataset[foto_mes == 202109]\n",
    "\n",
    "# aplico el modelo a los datos nuevos\n",
    "prediccion <- predict(\n",
    "  modelo,\n",
    "  data.matrix(dfuture[, campos_buenos, with= FALSE])\n",
    ")\n"
   ]
  },
  {
   "cell_type": "code",
   "execution_count": 15,
   "metadata": {
    "editable": true,
    "id": "Z5LYpStThlIC",
    "slideshow": {
     "slide_type": ""
    },
    "tags": []
   },
   "outputs": [],
   "source": [
    "# tabla de prediccion\n",
    "\n",
    "tb_prediccion <- dfuture[, list(numero_de_cliente)]\n",
    "tb_prediccion[, prob := prediccion ]\n",
    "\n",
    "# grabo las probabilidad del modelo\n",
    "fwrite(tb_prediccion,\n",
    "  file= \"prediccion.txt\",\n",
    "  sep= \"\\t\"\n",
    ")"
   ]
  },
  {
   "cell_type": "code",
   "execution_count": 16,
   "metadata": {
    "editable": true,
    "id": "vSopCODCh6kL",
    "slideshow": {
     "slide_type": ""
    },
    "tags": []
   },
   "outputs": [],
   "source": [
    "# subidas a Kaggle\n",
    "# ordeno por probabilidad descendente\n",
    "\n",
    "setorder(tb_prediccion, -prob)"
   ]
  },
  {
   "cell_type": "code",
   "execution_count": 17,
   "metadata": {
    "editable": true,
    "id": "pmxc2Z0fpJAZ",
    "slideshow": {
     "slide_type": ""
    },
    "tags": []
   },
   "outputs": [
    {
     "name": "stdout",
     "output_type": "stream",
     "text": [
      "Successfully submitted to Data Mining, Analista Sr 2025 B"
     ]
    }
   ],
   "source": [
    "# genero la prediccion y subo a Kaggle\n",
    "\n",
    "tb_prediccion[, Predicted := 0L]\n",
    "tb_prediccion[prob>(1/40), Predicted := 1L]\n",
    "\n",
    "archivo_kaggle <- paste0(\"KA\", PARAM$experimento, \".csv\")\n",
    "\n",
    "# grabo el archivo\n",
    "fwrite(tb_prediccion[, list(numero_de_cliente, Predicted)],\n",
    "  file= archivo_kaggle,\n",
    "  sep= \",\"\n",
    ")\n",
    "\n",
    "# subida a Kaggle\n",
    "comando <- \"kaggle competitions submit\"\n",
    "competencia <- \"-c data-mining-analista-sr-2025-b\"\n",
    "arch <- paste( \"-f\", archivo_kaggle)\n",
    "\n",
    "mensaje <- paste0(\"-m 'num_iterations=\", PARAM$lgb$num_iterations,\n",
    "  \"  learning_rate=\", PARAM$lgb$learning_rate,\n",
    "  \"  feature_fraction=\", PARAM$lgb$feature_fraction,\n",
    "  \"  min_data_in_leaf=\", PARAM$lgb$min_data_in_leaf,\n",
    "  \"  num_leaves=\",PARAM$lgb$num_leaves,\n",
    "  \"  max_bin=\", PARAM$lgb$max_bin,\n",
    "\"'\" )\n",
    "\n",
    "linea <- paste( comando, competencia, arch, mensaje)\n",
    "salida <- system(linea, intern=TRUE)\n",
    "cat(salida)"
   ]
  },
  {
   "cell_type": "code",
   "execution_count": 18,
   "metadata": {
    "editable": true,
    "id": "PK3QGWJsXk_k",
    "slideshow": {
     "slide_type": ""
    },
    "tags": []
   },
   "outputs": [
    {
     "data": {
      "text/html": [
       "'Sat Aug 30 00:07:57 2025'"
      ],
      "text/latex": [
       "'Sat Aug 30 00:07:57 2025'"
      ],
      "text/markdown": [
       "'Sat Aug 30 00:07:57 2025'"
      ],
      "text/plain": [
       "[1] \"Sat Aug 30 00:07:57 2025\""
      ]
     },
     "metadata": {},
     "output_type": "display_data"
    }
   ],
   "source": [
    "format(Sys.time(), \"%a %b %d %X %Y\")"
   ]
  },
  {
   "cell_type": "markdown",
   "metadata": {
    "editable": true,
    "id": "UMr6Z1enOyd3",
    "slideshow": {
     "slide_type": ""
    },
    "tags": []
   },
   "source": [
    "\n",
    "\n",
    "---\n",
    "\n"
   ]
  },
  {
   "cell_type": "markdown",
   "metadata": {
    "id": "lO4QwOEU-xPe"
   },
   "source": [
    "### 4.08  LightGBM  optimizacion de hiperparámetros"
   ]
  },
  {
   "cell_type": "markdown",
   "metadata": {
    "id": "75FU3LjSF2uN"
   },
   "source": [
    "La optimizacion de los hiperparámetros de LightGBM mediante el método de optimizacion bayesiana será su *caballito de batalla* durante la asignatura !"
   ]
  },
  {
   "cell_type": "markdown",
   "metadata": {
    "id": "aJBO5Dcb_B7s"
   },
   "source": [
    "limpio el ambiente de R"
   ]
  },
  {
   "cell_type": "code",
   "execution_count": 19,
   "metadata": {
    "editable": true,
    "id": "2CeMTfCuX3bH",
    "slideshow": {
     "slide_type": ""
    },
    "tags": []
   },
   "outputs": [
    {
     "data": {
      "text/html": [
       "'Sat Aug 30 00:08:31 2025'"
      ],
      "text/latex": [
       "'Sat Aug 30 00:08:31 2025'"
      ],
      "text/markdown": [
       "'Sat Aug 30 00:08:31 2025'"
      ],
      "text/plain": [
       "[1] \"Sat Aug 30 00:08:31 2025\""
      ]
     },
     "metadata": {},
     "output_type": "display_data"
    }
   ],
   "source": [
    "format(Sys.time(), \"%a %b %d %X %Y\")"
   ]
  },
  {
   "cell_type": "code",
   "execution_count": 20,
   "metadata": {
    "editable": true,
    "id": "HPKFI6yP_B7s",
    "slideshow": {
     "slide_type": ""
    },
    "tags": []
   },
   "outputs": [
    {
     "data": {
      "text/html": [
       "<table class=\"dataframe\">\n",
       "<caption>A matrix: 2 × 6 of type dbl</caption>\n",
       "<thead>\n",
       "\t<tr><th></th><th scope=col>used</th><th scope=col>(Mb)</th><th scope=col>gc trigger</th><th scope=col>(Mb)</th><th scope=col>max used</th><th scope=col>(Mb)</th></tr>\n",
       "</thead>\n",
       "<tbody>\n",
       "\t<tr><th scope=row>Ncells</th><td>1821586</td><td>97.3</td><td>  3712218</td><td>198.3</td><td>  3712218</td><td> 198.3</td></tr>\n",
       "\t<tr><th scope=row>Vcells</th><td>3461036</td><td>26.5</td><td>115658126</td><td>882.5</td><td>133616858</td><td>1019.5</td></tr>\n",
       "</tbody>\n",
       "</table>\n"
      ],
      "text/latex": [
       "A matrix: 2 × 6 of type dbl\n",
       "\\begin{tabular}{r|llllll}\n",
       "  & used & (Mb) & gc trigger & (Mb) & max used & (Mb)\\\\\n",
       "\\hline\n",
       "\tNcells & 1821586 & 97.3 &   3712218 & 198.3 &   3712218 &  198.3\\\\\n",
       "\tVcells & 3461036 & 26.5 & 115658126 & 882.5 & 133616858 & 1019.5\\\\\n",
       "\\end{tabular}\n"
      ],
      "text/markdown": [
       "\n",
       "A matrix: 2 × 6 of type dbl\n",
       "\n",
       "| <!--/--> | used | (Mb) | gc trigger | (Mb) | max used | (Mb) |\n",
       "|---|---|---|---|---|---|---|\n",
       "| Ncells | 1821586 | 97.3 |   3712218 | 198.3 |   3712218 |  198.3 |\n",
       "| Vcells | 3461036 | 26.5 | 115658126 | 882.5 | 133616858 | 1019.5 |\n",
       "\n"
      ],
      "text/plain": [
       "       used    (Mb) gc trigger (Mb)  max used  (Mb)  \n",
       "Ncells 1821586 97.3   3712218  198.3   3712218  198.3\n",
       "Vcells 3461036 26.5 115658126  882.5 133616858 1019.5"
      ]
     },
     "metadata": {},
     "output_type": "display_data"
    }
   ],
   "source": [
    "# limpio la memoria\n",
    "rm(list=ls(all.names=TRUE)) # remove all objects\n",
    "gc(full=TRUE, verbose=FALSE) # garbage collection"
   ]
  },
  {
   "cell_type": "code",
   "execution_count": 21,
   "metadata": {
    "editable": true,
    "id": "B6X8U6XF_B7t",
    "slideshow": {
     "slide_type": ""
    },
    "tags": []
   },
   "outputs": [
    {
     "name": "stderr",
     "output_type": "stream",
     "text": [
      "Loading required package: parallel\n",
      "\n",
      "Loading required package: primes\n",
      "\n",
      "Loading required package: DiceKriging\n",
      "\n",
      "Loading required package: mlrMBO\n",
      "\n",
      "Loading required package: mlr\n",
      "\n",
      "Loading required package: ParamHelpers\n",
      "\n",
      "Loading required package: smoof\n",
      "\n",
      "Loading required package: checkmate\n",
      "\n",
      "\n",
      "Attaching package: ‘checkmate’\n",
      "\n",
      "\n",
      "The following object is masked from ‘package:DiceKriging’:\n",
      "\n",
      "    checkNames\n",
      "\n",
      "\n"
     ]
    }
   ],
   "source": [
    "# cargo las librerias que necesito\n",
    "require(\"data.table\")\n",
    "require(\"rpart\")\n",
    "require(\"parallel\")\n",
    "\n",
    "if( !require(\"primes\") ) install.packages(\"primes\")\n",
    "require(\"primes\")\n",
    "\n",
    "if( !require(\"rlist\") ) install.packages(\"rlist\")\n",
    "require(\"rlist\")\n",
    "\n",
    "if( !require(\"lightgbm\") ) install.packages(\"lightgbm\")\n",
    "require(\"lightgbm\")\n",
    "\n",
    "if( !require(\"DiceKriging\") ) install.packages(\"DiceKriging\")\n",
    "require(\"DiceKriging\")\n",
    "\n",
    "if( !require(\"mlrMBO\") ) install.packages(\"mlrMBO\")\n",
    "require(\"mlrMBO\")\n"
   ]
  },
  {
   "cell_type": "markdown",
   "metadata": {
    "editable": true,
    "id": "_qZHeAHdCJQ2",
    "slideshow": {
     "slide_type": ""
    },
    "tags": []
   },
   "source": [
    "Aqui debe cargar SU semilla primigenia"
   ]
  },
  {
   "cell_type": "code",
   "execution_count": 22,
   "metadata": {
    "editable": true,
    "id": "2y3Ai8F6CJQ2",
    "slideshow": {
     "slide_type": ""
    },
    "tags": []
   },
   "outputs": [],
   "source": [
    "PARAM <- list()\n",
    "PARAM$experimento <- 4080\n",
    "PARAM$semilla_primigenia <- 100237\n",
    "\n",
    "# un undersampling de 0.1  toma solo el 10% de los CONTINUA\n",
    "# undersampling de 1.0  implica tomar TODOS los datos\n",
    "PARAM$trainingstrategy$undersampling <- 1.0\n",
    "\n",
    "PARAM$hyperparametertuning$iteraciones <- 30 # iteracines bayesianas\n",
    "\n",
    "PARAM$hyperparametertuning$xval_folds <- 5\n",
    "\n",
    "# parametros fijos del LightGBM\n",
    "PARAM$lgbm$param_fijos <- list(\n",
    "  objective= \"binary\",\n",
    "  metric= \"auc\",\n",
    "  first_metric_only= TRUE,\n",
    "  boost_from_average= TRUE,\n",
    "  feature_pre_filter= FALSE,\n",
    "  verbosity= -100,\n",
    "  force_row_wise= TRUE, # para evitar warning\n",
    "  seed= PARAM$semilla_primigenia,\n",
    "  max_bin= 31,\n",
    "  num_iterations= 2048,  # valor grande, lo limita early_stopping_rounds\n",
    "  early_stopping_rounds= 200\n",
    ")\n",
    "\n",
    "# Aqui se cargan los bordes de los hiperparametros\n",
    "PARAM$hypeparametertuning$hs <- makeParamSet(\n",
    "  makeNumericParam(\"learning_rate\", lower= 0.01, upper= 0.3),\n",
    "  makeNumericParam(\"feature_fraction\", lower= 0.1, upper= 1.0),\n",
    "  makeIntegerParam(\"num_leaves\", lower= 8L, upper= 2048L),\n",
    "  makeIntegerParam(\"min_data_in_leaf\", lower= 1L, upper= 8000L)\n",
    ")"
   ]
  },
  {
   "cell_type": "code",
   "execution_count": 23,
   "metadata": {
    "editable": true,
    "id": "NnPKiCHuCwVo",
    "slideshow": {
     "slide_type": ""
    },
    "tags": []
   },
   "outputs": [],
   "source": [
    "# En el argumento x llegan los parmaetros de la bayesiana\n",
    "#  devuelve la AUC de cross validation del modelo entrenado\n",
    "\n",
    "EstimarGanancia_AUC_lightgbm <- function(x) {\n",
    "\n",
    "  message(format(Sys.time(), \"%a %b %d %X %Y\"))\n",
    "\n",
    "  # uno la lista de hiperparametros : fijos + variables\n",
    "  param_completo <- c(PARAM$lgbm$param_fijos, x)\n",
    "\n",
    "  # entreno LightGBM\n",
    "  modelocv <- lgb.cv(\n",
    "    data= dtrain,\n",
    "    nfold= PARAM$hyperparametertuning$xval_folds,\n",
    "    stratified= TRUE,\n",
    "    param= param_completo,\n",
    "    verbose= -100\n",
    "  )\n",
    "\n",
    "  # obtengo la ganancia\n",
    "  AUC <- modelocv$best_score\n",
    "\n",
    "  # esta es la forma de devolver un parametro extra\n",
    "  attr(AUC, \"extras\") <- list(\"num_iterations\"= modelocv$best_iter)\n",
    "\n",
    "  # hago espacio en la memoria\n",
    "  rm(modelocv)\n",
    "  gc(full= TRUE, verbose= FALSE)\n",
    "\n",
    "  message( \"AUC: \", AUC)\n",
    "  return(AUC)\n",
    "}"
   ]
  },
  {
   "cell_type": "markdown",
   "metadata": {
    "editable": true,
    "id": "P7Pw1KLeE3UH",
    "slideshow": {
     "slide_type": ""
    },
    "tags": []
   },
   "source": [
    "aqui se inicia el programa"
   ]
  },
  {
   "cell_type": "code",
   "execution_count": 24,
   "metadata": {
    "editable": true,
    "id": "w1lb19whCJQ3",
    "slideshow": {
     "slide_type": ""
    },
    "tags": []
   },
   "outputs": [],
   "source": [
    "# carpeta de trabajo\n",
    "\n",
    "setwd(\"/content/buckets/b1/exp\")\n",
    "experimento_folder <- paste0(\"HT\", PARAM$experimento)\n",
    "dir.create(experimento_folder, showWarnings=FALSE)\n",
    "setwd( paste0(\"/content/buckets/b1/exp/\", experimento_folder ))"
   ]
  },
  {
   "cell_type": "code",
   "execution_count": 25,
   "metadata": {
    "editable": true,
    "id": "QvOokHUvuolF",
    "slideshow": {
     "slide_type": ""
    },
    "tags": []
   },
   "outputs": [],
   "source": [
    "# en este archivo quedan la evolucion binaria de la BO\n",
    "\n",
    "kbayesiana <- \"bayesiana.RDATA\""
   ]
  },
  {
   "cell_type": "code",
   "execution_count": 26,
   "metadata": {
    "editable": true,
    "id": "xcOJpoFvCJQ3",
    "slideshow": {
     "slide_type": ""
    },
    "tags": []
   },
   "outputs": [],
   "source": [
    "# lectura del dataset\n",
    "\n",
    "dataset <- fread(\"/content/datasets/dataset_pequeno.csv\")"
   ]
  },
  {
   "cell_type": "code",
   "execution_count": 27,
   "metadata": {
    "editable": true,
    "id": "JorOk_A8EhSy",
    "slideshow": {
     "slide_type": ""
    },
    "tags": []
   },
   "outputs": [],
   "source": [
    "dataset <- dataset[foto_mes %in% c(202107)]"
   ]
  },
  {
   "cell_type": "code",
   "execution_count": 28,
   "metadata": {
    "editable": true,
    "id": "JDg9xZVYrwvj",
    "slideshow": {
     "slide_type": ""
    },
    "tags": []
   },
   "outputs": [],
   "source": [
    "# paso la clase a binaria que tome valores {0,1}  enteros\n",
    "\n",
    "dataset[\n",
    "  foto_mes %in% c(202107),\n",
    "  clase01 := ifelse(clase_ternaria == \"BAJA+2\", 1L, 0L)\n",
    "]"
   ]
  },
  {
   "cell_type": "code",
   "execution_count": 29,
   "metadata": {
    "editable": true,
    "id": "E68xpDYAr0nK",
    "slideshow": {
     "slide_type": ""
    },
    "tags": []
   },
   "outputs": [],
   "source": [
    "# los campos que se van a utilizar\n",
    "\n",
    "campos_buenos <- setdiff(\n",
    "  colnames(dataset),\n",
    "  c(\"clase_ternaria\", \"clase01\", \"azar\", \"training\")\n",
    ")\n"
   ]
  },
  {
   "cell_type": "code",
   "execution_count": 30,
   "metadata": {
    "editable": true,
    "id": "G8zeYUfSr3GF",
    "slideshow": {
     "slide_type": ""
    },
    "tags": []
   },
   "outputs": [],
   "source": [
    "# defino los datos que forma parte del training\n",
    "# aqui se hace el undersampling de los CONTINUA\n",
    "# notar que para esto utilizo la SEGUNDA semilla\n",
    "\n",
    "set.seed(PARAM$semilla_primigenia, kind= \"L'Ecuyer-CMRG\")\n",
    "dataset[, azar := runif(nrow(dataset))]\n",
    "dataset[, training := 0L]\n",
    "\n",
    "dataset[\n",
    "  foto_mes %in% c(202107) &\n",
    "    (azar <= PARAM$trainingstrategy$undersampling | clase_ternaria %in% c(\"BAJA+1\", \"BAJA+2\")),\n",
    "  training := 1L\n",
    "]"
   ]
  },
  {
   "cell_type": "code",
   "execution_count": 31,
   "metadata": {
    "editable": true,
    "id": "se8_aKuMr5CV",
    "slideshow": {
     "slide_type": ""
    },
    "tags": []
   },
   "outputs": [
    {
     "data": {
      "text/html": [
       "164596"
      ],
      "text/latex": [
       "164596"
      ],
      "text/markdown": [
       "164596"
      ],
      "text/plain": [
       "[1] 164596"
      ]
     },
     "metadata": {},
     "output_type": "display_data"
    },
    {
     "data": {
      "text/html": [
       "154"
      ],
      "text/latex": [
       "154"
      ],
      "text/markdown": [
       "154"
      ],
      "text/plain": [
       "[1] 154"
      ]
     },
     "metadata": {},
     "output_type": "display_data"
    }
   ],
   "source": [
    "# dejo los datos en el formato que necesita LightGBM\n",
    "\n",
    "dtrain <- lgb.Dataset(\n",
    "  data= data.matrix(dataset[training == 1L, campos_buenos, with= FALSE]),\n",
    "  label= dataset[training == 1L, clase01],\n",
    "  free_raw_data= FALSE\n",
    ")\n",
    "\n",
    "nrow(dtrain)\n",
    "ncol(dtrain)"
   ]
  },
  {
   "cell_type": "code",
   "execution_count": 32,
   "metadata": {
    "editable": true,
    "id": "CsRYGGeN-1ID",
    "slideshow": {
     "slide_type": ""
    },
    "tags": []
   },
   "outputs": [],
   "source": [
    "# Aqui comienza la configuracion de la Bayesian Optimization\n",
    "\n",
    "funcion_optimizar <- EstimarGanancia_AUC_lightgbm # la funcion que voy a maximizar\n",
    "\n",
    "configureMlr(show.learner.output= FALSE)\n",
    "\n",
    "# configuro la busqueda bayesiana,  los hiperparametros que se van a optimizar\n",
    "# por favor, no desesperarse por lo complejo\n",
    "\n",
    "obj.fun <- makeSingleObjectiveFunction(\n",
    "  fn= funcion_optimizar, # la funcion que voy a maximizar\n",
    "  minimize= FALSE, # estoy Maximizando la ganancia\n",
    "  noisy= TRUE,\n",
    "  par.set= PARAM$hypeparametertuning$hs, # definido al comienzo del programa\n",
    "  has.simple.signature= FALSE # paso los parametros en una lista\n",
    ")\n",
    "\n",
    "# cada 600 segundos guardo el resultado intermedio\n",
    "ctrl <- makeMBOControl(\n",
    "  save.on.disk.at.time= 600, # se graba cada 600 segundos\n",
    "  save.file.path= kbayesiana\n",
    ") # se graba cada 600 segundos\n",
    "\n",
    "# indico la cantidad de iteraciones que va a tener la Bayesian Optimization\n",
    "ctrl <- setMBOControlTermination(\n",
    "  ctrl,\n",
    "  iters= PARAM$hyperparametertuning$iteraciones\n",
    ") # cantidad de iteraciones\n",
    "\n",
    "# defino el método estandar para la creacion de los puntos iniciales,\n",
    "# los \"No Inteligentes\"\n",
    "ctrl <- setMBOControlInfill(ctrl, crit= makeMBOInfillCritEI())\n",
    "\n",
    "# establezco la funcion que busca el maximo\n",
    "surr.km <- makeLearner(\n",
    "  \"regr.km\",\n",
    "  predict.type= \"se\",\n",
    "  covtype= \"matern3_2\",\n",
    "  control= list(trace= TRUE)\n",
    ")\n"
   ]
  },
  {
   "cell_type": "code",
   "execution_count": 33,
   "metadata": {
    "editable": true,
    "id": "TissqCCHD1uZ",
    "slideshow": {
     "slide_type": ""
    },
    "tags": []
   },
   "outputs": [
    {
     "name": "stderr",
     "output_type": "stream",
     "text": [
      "Computing y column(s) for design. Not provided.\n",
      "\n",
      "Sat Aug 30 00:15:04 2025\n",
      "\n",
      "AUC: 0.897910671686136\n",
      "\n",
      "Sat Aug 30 00:15:32 2025\n",
      "\n",
      "AUC: 0.903402552878794\n",
      "\n",
      "Sat Aug 30 00:15:52 2025\n",
      "\n",
      "AUC: 0.902044829154803\n",
      "\n",
      "Sat Aug 30 00:16:15 2025\n",
      "\n",
      "AUC: 0.900861446400503\n",
      "\n",
      "Sat Aug 30 00:16:36 2025\n",
      "\n",
      "AUC: 0.900144333907904\n",
      "\n",
      "Sat Aug 30 00:17:16 2025\n",
      "\n",
      "AUC: 0.905531449545844\n",
      "\n",
      "Sat Aug 30 00:17:30 2025\n",
      "\n",
      "AUC: 0.890367618718799\n",
      "\n",
      "Sat Aug 30 00:18:16 2025\n",
      "\n",
      "AUC: 0.89995922982315\n",
      "\n",
      "Sat Aug 30 00:18:38 2025\n",
      "\n",
      "AUC: 0.903677088018441\n",
      "\n",
      "Sat Aug 30 00:18:59 2025\n",
      "\n",
      "AUC: 0.901865549927536\n",
      "\n",
      "Sat Aug 30 00:19:16 2025\n",
      "\n",
      "AUC: 0.896700813442168\n",
      "\n",
      "Sat Aug 30 00:20:37 2025\n",
      "\n",
      "AUC: 0.902359335583757\n",
      "\n",
      "Sat Aug 30 00:21:12 2025\n",
      "\n",
      "AUC: 0.900160336798081\n",
      "\n",
      "Sat Aug 30 00:21:30 2025\n",
      "\n",
      "AUC: 0.902628402182608\n",
      "\n",
      "Sat Aug 30 00:21:42 2025\n",
      "\n",
      "AUC: 0.896234741042481\n",
      "\n",
      "Sat Aug 30 00:22:05 2025\n",
      "\n",
      "AUC: 0.904015394428547\n",
      "\n",
      "[mbo] 0: learning_rate=0.217; feature_fraction=0.459; num_leaves=382; min_data_in_leaf=1951 : y = 0.898 : 28.2 secs : initdesign\n",
      "\n",
      "[mbo] 0: learning_rate=0.0702; feature_fraction=0.714; num_leaves=806; min_data_in_leaf=4160 : y = 0.903 : 19.6 secs : initdesign\n",
      "\n",
      "[mbo] 0: learning_rate=0.203; feature_fraction=0.422; num_leaves=45; min_data_in_leaf=6437 : y = 0.902 : 22.5 secs : initdesign\n",
      "\n",
      "[mbo] 0: learning_rate=0.148; feature_fraction=0.298; num_leaves=1063; min_data_in_leaf=4710 : y = 0.901 : 21.3 secs : initdesign\n",
      "\n",
      "[mbo] 0: learning_rate=0.0376; feature_fraction=0.92; num_leaves=1618; min_data_in_leaf=1113 : y = 0.9 : 40.2 secs : initdesign\n",
      "\n",
      "[mbo] 0: learning_rate=0.177; feature_fraction=0.72; num_leaves=1170; min_data_in_leaf=5962 : y = 0.906 : 14.1 secs : initdesign\n",
      "\n",
      "[mbo] 0: learning_rate=0.243; feature_fraction=0.571; num_leaves=1303; min_data_in_leaf=582 : y = 0.89 : 45.6 secs : initdesign\n",
      "\n",
      "[mbo] 0: learning_rate=0.261; feature_fraction=0.538; num_leaves=2003; min_data_in_leaf=5310 : y = 0.9 : 22.3 secs : initdesign\n",
      "\n",
      "[mbo] 0: learning_rate=0.114; feature_fraction=0.12; num_leaves=194; min_data_in_leaf=7109 : y = 0.904 : 21.0 secs : initdesign\n",
      "\n",
      "[mbo] 0: learning_rate=0.132; feature_fraction=0.796; num_leaves=501; min_data_in_leaf=3899 : y = 0.902 : 16.9 secs : initdesign\n",
      "\n",
      "[mbo] 0: learning_rate=0.0867; feature_fraction=0.369; num_leaves=1683; min_data_in_leaf=207 : y = 0.897 : 81.2 secs : initdesign\n",
      "\n",
      "[mbo] 0: learning_rate=0.0567; feature_fraction=0.209; num_leaves=643; min_data_in_leaf=2250 : y = 0.902 : 34.4 secs : initdesign\n",
      "\n",
      "[mbo] 0: learning_rate=0.169; feature_fraction=0.98; num_leaves=1819; min_data_in_leaf=3076 : y = 0.9 : 18.0 secs : initdesign\n",
      "\n",
      "[mbo] 0: learning_rate=0.28; feature_fraction=0.855; num_leaves=708; min_data_in_leaf=7533 : y = 0.903 : 12.6 secs : initdesign\n",
      "\n",
      "[mbo] 0: learning_rate=0.294; feature_fraction=0.269; num_leaves=981; min_data_in_leaf=2518 : y = 0.896 : 22.8 secs : initdesign\n",
      "\n",
      "[mbo] 0: learning_rate=0.0124; feature_fraction=0.609; num_leaves=1490; min_data_in_leaf=6715 : y = 0.904 : 63.8 secs : initdesign\n",
      "\n",
      "Sat Aug 30 00:23:10 2025\n",
      "\n",
      "AUC: 0.90230548154705\n",
      "\n",
      "[mbo] 1: learning_rate=0.151; feature_fraction=1; num_leaves=1338; min_data_in_leaf=7518 : y = 0.902 : 13.8 secs : infill_ei\n",
      "\n",
      "Sat Aug 30 00:23:24 2025\n",
      "\n",
      "AUC: 0.904100481667614\n",
      "\n",
      "[mbo] 2: learning_rate=0.0803; feature_fraction=0.871; num_leaves=971; min_data_in_leaf=5933 : y = 0.904 : 17.1 secs : infill_ei\n",
      "\n",
      "Sat Aug 30 00:23:42 2025\n",
      "\n",
      "AUC: 0.903666045131006\n",
      "\n",
      "[mbo] 3: learning_rate=0.132; feature_fraction=0.698; num_leaves=1280; min_data_in_leaf=6395 : y = 0.904 : 13.8 secs : infill_ei\n",
      "\n",
      "Sat Aug 30 00:23:56 2025\n",
      "\n",
      "AUC: 0.901194023537463\n",
      "\n",
      "[mbo] 4: learning_rate=0.198; feature_fraction=0.199; num_leaves=1003; min_data_in_leaf=5984 : y = 0.901 : 19.9 secs : infill_ei\n",
      "\n",
      "Sat Aug 30 00:24:16 2025\n",
      "\n",
      "AUC: 0.9013278900941\n",
      "\n",
      "[mbo] 5: learning_rate=0.189; feature_fraction=0.971; num_leaves=923; min_data_in_leaf=5852 : y = 0.901 : 14.0 secs : infill_ei\n",
      "\n",
      "Sat Aug 30 00:24:31 2025\n",
      "\n",
      "AUC: 0.903942797963656\n",
      "\n",
      "[mbo] 6: learning_rate=0.0101; feature_fraction=0.739; num_leaves=1052; min_data_in_leaf=5723 : y = 0.904 : 51.0 secs : infill_ei\n",
      "\n",
      "Saved the current state after iteration 7 in the file bayesiana.RDATA.\n",
      "\n",
      "Sat Aug 30 00:25:26 2025\n",
      "\n",
      "AUC: 0.904613479109506\n",
      "\n",
      "[mbo] 7: learning_rate=0.0882; feature_fraction=0.913; num_leaves=1154; min_data_in_leaf=6665 : y = 0.905 : 18.1 secs : infill_ei\n",
      "\n",
      "Sat Aug 30 00:25:44 2025\n",
      "\n",
      "AUC: 0.903168572606321\n",
      "\n",
      "[mbo] 8: learning_rate=0.0412; feature_fraction=0.848; num_leaves=916; min_data_in_leaf=7704 : y = 0.903 : 22.9 secs : infill_ei\n",
      "\n",
      "Sat Aug 30 00:26:08 2025\n",
      "\n",
      "AUC: 0.903702025040853\n",
      "\n",
      "[mbo] 9: learning_rate=0.195; feature_fraction=0.763; num_leaves=1756; min_data_in_leaf=7997 : y = 0.904 : 13.4 secs : infill_ei\n",
      "\n",
      "Sat Aug 30 00:26:22 2025\n",
      "\n",
      "AUC: 0.905303753723603\n",
      "\n",
      "[mbo] 10: learning_rate=0.0929; feature_fraction=0.648; num_leaves=14; min_data_in_leaf=7998 : y = 0.905 : 16.9 secs : infill_ei\n",
      "\n",
      "Sat Aug 30 00:26:40 2025\n",
      "\n",
      "AUC: 0.904486735443551\n",
      "\n",
      "[mbo] 11: learning_rate=0.173; feature_fraction=0.696; num_leaves=583; min_data_in_leaf=7054 : y = 0.904 : 13.8 secs : infill_ei\n",
      "\n",
      "Sat Aug 30 00:26:54 2025\n",
      "\n",
      "AUC: 0.905504142147038\n",
      "\n",
      "[mbo] 12: learning_rate=0.0547; feature_fraction=0.59; num_leaves=29; min_data_in_leaf=7181 : y = 0.906 : 24.9 secs : infill_ei\n",
      "\n",
      "Sat Aug 30 00:27:19 2025\n",
      "\n",
      "AUC: 0.904764169071149\n",
      "\n",
      "[mbo] 13: learning_rate=0.0227; feature_fraction=0.222; num_leaves=8; min_data_in_leaf=6736 : y = 0.905 : 65.8 secs : infill_ei\n",
      "\n",
      "Sat Aug 30 00:28:26 2025\n",
      "\n",
      "AUC: 0.906174835644096\n",
      "\n",
      "[mbo] 14: learning_rate=0.194; feature_fraction=0.733; num_leaves=1113; min_data_in_leaf=7257 : y = 0.906 : 13.5 secs : infill_ei\n",
      "\n",
      "Sat Aug 30 00:28:40 2025\n",
      "\n",
      "AUC: 0.903934358486516\n",
      "\n",
      "[mbo] 15: learning_rate=0.0597; feature_fraction=0.417; num_leaves=280; min_data_in_leaf=8000 : y = 0.904 : 34.7 secs : infill_ei\n",
      "\n",
      "Sat Aug 30 00:29:15 2025\n",
      "\n",
      "AUC: 0.903430719320374\n",
      "\n",
      "[mbo] 16: learning_rate=0.298; feature_fraction=0.733; num_leaves=1057; min_data_in_leaf=6926 : y = 0.903 : 12.8 secs : infill_ei\n",
      "\n",
      "Sat Aug 30 00:29:29 2025\n",
      "\n",
      "AUC: 0.903180884815607\n",
      "\n",
      "[mbo] 17: learning_rate=0.0101; feature_fraction=0.508; num_leaves=8; min_data_in_leaf=4548 : y = 0.903 : 131.3 secs : infill_ei\n",
      "\n",
      "Sat Aug 30 00:31:40 2025\n",
      "\n",
      "AUC: 0.903802424305274\n",
      "\n",
      "[mbo] 18: learning_rate=0.178; feature_fraction=0.768; num_leaves=1126; min_data_in_leaf=7734 : y = 0.904 : 13.5 secs : infill_ei\n",
      "\n",
      "Sat Aug 30 00:31:55 2025\n",
      "\n",
      "AUC: 0.902637237010671\n",
      "\n",
      "[mbo] 19: learning_rate=0.207; feature_fraction=0.691; num_leaves=1095; min_data_in_leaf=6758 : y = 0.903 : 12.8 secs : infill_ei\n",
      "\n",
      "Sat Aug 30 00:32:08 2025\n",
      "\n",
      "AUC: 0.904211249220682\n",
      "\n",
      "[mbo] 20: learning_rate=0.148; feature_fraction=0.728; num_leaves=14; min_data_in_leaf=7829 : y = 0.904 : 14.6 secs : infill_ei\n",
      "\n",
      "Sat Aug 30 00:32:23 2025\n",
      "\n",
      "AUC: 0.906609556029983\n",
      "\n",
      "[mbo] 21: learning_rate=0.0105; feature_fraction=0.621; num_leaves=345; min_data_in_leaf=7998 : y = 0.907 : 73.5 secs : infill_ei\n",
      "\n",
      "Sat Aug 30 00:33:37 2025\n",
      "\n",
      "AUC: 0.905707792999346\n",
      "\n",
      "[mbo] 22: learning_rate=0.0513; feature_fraction=0.731; num_leaves=1655; min_data_in_leaf=7278 : y = 0.906 : 21.5 secs : infill_ei\n",
      "\n",
      "Sat Aug 30 00:33:59 2025\n",
      "\n",
      "AUC: 0.906890772936224\n",
      "\n",
      "[mbo] 23: learning_rate=0.0242; feature_fraction=0.532; num_leaves=537; min_data_in_leaf=7992 : y = 0.907 : 56.9 secs : infill_ei\n",
      "\n",
      "Sat Aug 30 00:34:57 2025\n",
      "\n",
      "AUC: 0.905827790715286\n",
      "\n",
      "[mbo] 24: learning_rate=0.0102; feature_fraction=0.572; num_leaves=1247; min_data_in_leaf=7962 : y = 0.906 : 119.5 secs : infill_ei\n",
      "\n",
      "Saved the current state after iteration 25 in the file bayesiana.RDATA.\n",
      "\n",
      "Sat Aug 30 00:37:01 2025\n",
      "\n",
      "AUC: 0.905798585808597\n",
      "\n",
      "[mbo] 25: learning_rate=0.0103; feature_fraction=0.547; num_leaves=50; min_data_in_leaf=7999 : y = 0.906 : 105.3 secs : infill_ei\n",
      "\n",
      "Sat Aug 30 00:38:47 2025\n",
      "\n",
      "AUC: 0.905622384406195\n",
      "\n",
      "[mbo] 26: learning_rate=0.0119; feature_fraction=0.5; num_leaves=2037; min_data_in_leaf=7998 : y = 0.906 : 112.0 secs : infill_ei\n",
      "\n",
      "Sat Aug 30 00:40:40 2025\n",
      "\n",
      "AUC: 0.904999760619265\n",
      "\n",
      "[mbo] 27: learning_rate=0.0606; feature_fraction=0.507; num_leaves=700; min_data_in_leaf=7998 : y = 0.905 : 37.3 secs : infill_ei\n",
      "\n",
      "Sat Aug 30 00:41:18 2025\n",
      "\n",
      "AUC: 0.904969756306677\n",
      "\n",
      "[mbo] 28: learning_rate=0.0102; feature_fraction=0.534; num_leaves=874; min_data_in_leaf=7947 : y = 0.905 : 102.4 secs : infill_ei\n",
      "\n",
      "Sat Aug 30 00:43:01 2025\n",
      "\n",
      "AUC: 0.905620067777737\n",
      "\n",
      "[mbo] 29: learning_rate=0.0116; feature_fraction=0.585; num_leaves=1301; min_data_in_leaf=7342 : y = 0.906 : 79.6 secs : infill_ei\n",
      "\n",
      "Sat Aug 30 00:44:21 2025\n",
      "\n",
      "AUC: 0.904538226903356\n",
      "\n",
      "[mbo] 30: learning_rate=0.0336; feature_fraction=0.57; num_leaves=458; min_data_in_leaf=7998 : y = 0.905 : 41.8 secs : infill_ei\n",
      "\n",
      "Saved the final state in the file bayesiana.RDATA\n",
      "\n"
     ]
    }
   ],
   "source": [
    "# inicio la optimizacion bayesiana, retomando si ya existe\n",
    "\n",
    "if (!file.exists(kbayesiana)) {\n",
    "  bayesiana_salida <- mbo(obj.fun, learner= surr.km, control= ctrl)\n",
    "} else {\n",
    "  bayesiana_salida <- mboContinue(kbayesiana) # retomo en caso que ya exista\n",
    "}"
   ]
  },
  {
   "cell_type": "code",
   "execution_count": 34,
   "metadata": {
    "editable": true,
    "id": "aC-ls8JfNDTf",
    "slideshow": {
     "slide_type": ""
    },
    "tags": []
   },
   "outputs": [
    {
     "name": "stdout",
     "output_type": "stream",
     "text": [
      "   learning_rate feature_fraction num_leaves min_data_in_leaf num_iterations\n",
      "           <num>            <num>      <int>            <int>          <int>\n",
      "1:    0.02419096        0.5318266        537             7992            418\n"
     ]
    }
   ],
   "source": [
    "# almaceno los resultados de la Bayesian Optimization\n",
    "# y capturo los mejores hiperparametros encontrados\n",
    "\n",
    "tb_bayesiana <- as.data.table(bayesiana_salida$opt.path)\n",
    "\n",
    "tb_bayesiana[, iter:= .I]\n",
    "# ordeno en forma descendente por AUC = y\n",
    "setorder(tb_bayesiana, -y, -num_iterations)\n",
    "\n",
    "# grabo para eventualmente poder utilizarlos en OTRA corrida\n",
    "fwrite( tb_bayesiana,\n",
    "  file= \"BO_log.txt\",\n",
    "  sep= \"\\t\"\n",
    ")\n",
    "\n",
    "# los mejores hiperparámetros son los que quedaron en el registro 1 de la tabla\n",
    "PARAM$out$lgbm$mejores_hiperparametros <- tb_bayesiana[\n",
    "  1, # el primero es el de mejor AUC\n",
    "  list(learning_rate, feature_fraction, num_leaves, min_data_in_leaf, num_iterations)\n",
    "]\n",
    "\n",
    "print(PARAM$out$lgbm$mejores_hiperparametros)"
   ]
  },
  {
   "cell_type": "code",
   "execution_count": 35,
   "metadata": {
    "editable": true,
    "id": "5dPpsZpcX6e8",
    "slideshow": {
     "slide_type": ""
    },
    "tags": []
   },
   "outputs": [
    {
     "data": {
      "text/html": [
       "'Sat Aug 30 00:46:35 2025'"
      ],
      "text/latex": [
       "'Sat Aug 30 00:46:35 2025'"
      ],
      "text/markdown": [
       "'Sat Aug 30 00:46:35 2025'"
      ],
      "text/plain": [
       "[1] \"Sat Aug 30 00:46:35 2025\""
      ]
     },
     "metadata": {},
     "output_type": "display_data"
    }
   ],
   "source": [
    "format(Sys.time(), \"%a %b %d %X %Y\")"
   ]
  },
  {
   "cell_type": "markdown",
   "metadata": {
    "editable": true,
    "id": "0vu-1vf5LrVg",
    "slideshow": {
     "slide_type": ""
    },
    "tags": []
   },
   "source": [
    "\n",
    "\n",
    "---\n",
    "\n"
   ]
  }
 ],
 "metadata": {
  "colab": {
   "provenance": []
  },
  "kernelspec": {
   "display_name": "R",
   "language": "R",
   "name": "ir"
  },
  "language_info": {
   "codemirror_mode": "r",
   "file_extension": ".r",
   "mimetype": "text/x-r-source",
   "name": "R",
   "pygments_lexer": "r",
   "version": "4.4.3"
  }
 },
 "nbformat": 4,
 "nbformat_minor": 4
}
